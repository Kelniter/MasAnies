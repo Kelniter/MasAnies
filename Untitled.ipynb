{
 "cells": [
  {
   "cell_type": "code",
   "execution_count": 1,
   "id": "98d33ff0-430e-49f8-8a82-967011e2d858",
   "metadata": {},
   "outputs": [],
   "source": [
    "import requests\n",
    "\n",
    "mrturl = \"https://jakartamrt.co.id/id/val/stasiuns\"\n",
    "\n",
    "opener = requests.get(mrturl)"
   ]
  },
  {
   "cell_type": "code",
   "execution_count": 2,
   "id": "e7eaa78f-7fff-4520-bd09-637c5bfc1a54",
   "metadata": {},
   "outputs": [
    {
     "data": {
      "text/plain": [
       "13"
      ]
     },
     "execution_count": 2,
     "metadata": {},
     "output_type": "execute_result"
    }
   ],
   "source": [
    "data = opener.json()\n",
    "\n",
    "total = len(data)\n",
    "\n",
    "total"
   ]
  },
  {
   "cell_type": "code",
   "execution_count": 3,
   "id": "bc1c68ef-eaa8-4ab4-9b93-eb433b92e4fd",
   "metadata": {},
   "outputs": [
    {
     "data": {
      "text/plain": [
       "dict_keys(['nid', 'title', 'urutan', 'isbig', 'path', 'catatan', 'antarmodas', 'peta_lokalitas', 'jadwal_lb_biasa', 'jadwal_lb_libur', 'jadwal_hi_biasa', 'jadwal_hi_libur', 'banner', 'retails', 'estimasi', 'fasilitas'])"
      ]
     },
     "execution_count": 3,
     "metadata": {},
     "output_type": "execute_result"
    }
   ],
   "source": [
    "sample = data[6]\n",
    "\n",
    "sample.keys()"
   ]
  },
  {
   "cell_type": "code",
   "execution_count": 4,
   "id": "1ba1853b-4796-4069-b57b-c10deb0a07f7",
   "metadata": {},
   "outputs": [
    {
     "data": {
      "text/plain": [
       "'Stasiun ASEAN'"
      ]
     },
     "execution_count": 4,
     "metadata": {},
     "output_type": "execute_result"
    }
   ],
   "source": [
    "title = sample[\"title\"]\n",
    "\n",
    "title"
   ]
  },
  {
   "cell_type": "code",
   "execution_count": 5,
   "id": "01139f9e-e098-40ea-afc3-292951f12a13",
   "metadata": {},
   "outputs": [
    {
     "data": {
      "text/plain": [
       "'Kopaja\\r\\nS13\\r\\n\\r\\nMayasari Bakti\\r\\nC300'"
      ]
     },
     "execution_count": 5,
     "metadata": {},
     "output_type": "execute_result"
    }
   ],
   "source": [
    "antar = sample[\"antarmodas\"]\n",
    "\n",
    "antar"
   ]
  },
  {
   "cell_type": "code",
   "execution_count": 6,
   "id": "7e51fd22-2237-4db8-9513-f58d9852c227",
   "metadata": {},
   "outputs": [
    {
     "data": {
      "text/plain": [
       "['Kopaja\\r\\nS13', 'Mayasari Bakti\\r\\nC300']"
      ]
     },
     "execution_count": 6,
     "metadata": {},
     "output_type": "execute_result"
    }
   ],
   "source": [
    "split = \"\\r\\n\\r\\n\"\n",
    "\n",
    "antar = antar.split(split)\n",
    "\n",
    "antar"
   ]
  },
  {
   "cell_type": "code",
   "execution_count": 7,
   "id": "db083211-9582-4e6b-833a-a157a5e0840a",
   "metadata": {},
   "outputs": [
    {
     "data": {
      "text/plain": [
       "['Kopaja S13', 'Mayasari Bakti C300']"
      ]
     },
     "execution_count": 7,
     "metadata": {},
     "output_type": "execute_result"
    }
   ],
   "source": [
    "repl = \"\\r\\n\"\n",
    "\n",
    "antar = [i.replace(repl, \" \") for i in antar]\n",
    "\n",
    "antar"
   ]
  },
  {
   "cell_type": "code",
   "execution_count": 8,
   "id": "c208318c-d2b4-457d-b5ba-c302e147d4fe",
   "metadata": {},
   "outputs": [
    {
     "data": {
      "text/plain": [
       "['05:19', '05:34', '05:46', '05:58', '06:10']"
      ]
     },
     "execution_count": 8,
     "metadata": {},
     "output_type": "execute_result"
    }
   ],
   "source": [
    "jadnor = sample[\"jadwal_lb_biasa\"]\n",
    "\n",
    "jadnor = [i.strip() for i in jadnor.split(\",\")]\n",
    "\n",
    "jadnor[:5]"
   ]
  },
  {
   "cell_type": "code",
   "execution_count": 9,
   "id": "12db37e7-9c68-4070-89fd-597f3fb30dd6",
   "metadata": {},
   "outputs": [
    {
     "data": {
      "text/plain": [
       "['05:19', '05:34', '05:46', '05:58', '06:10']"
      ]
     },
     "execution_count": 9,
     "metadata": {},
     "output_type": "execute_result"
    }
   ],
   "source": [
    "jadoff = sample[\"jadwal_lb_libur\"]\n",
    "\n",
    "jadoff = [i.strip() for i in jadoff.split(\",\")]\n",
    "\n",
    "jadoff[:5]"
   ]
  },
  {
   "cell_type": "code",
   "execution_count": 10,
   "id": "3a5c2532-9f6c-4723-a8a3-ec23a5cd0378",
   "metadata": {},
   "outputs": [
    {
     "data": {
      "text/plain": [
       "33"
      ]
     },
     "execution_count": 10,
     "metadata": {},
     "output_type": "execute_result"
    }
   ],
   "source": [
    "selisih = len(jadnor) - len(jadoff)\n",
    "\n",
    "selisih"
   ]
  },
  {
   "cell_type": "code",
   "execution_count": 11,
   "id": "85a1c07e-0a67-490f-a955-e40bbeeddeff",
   "metadata": {},
   "outputs": [
    {
     "data": {
      "text/plain": [
       "['05:02', '05:15', '05:27', '05:39', '05:51']"
      ]
     },
     "execution_count": 11,
     "metadata": {},
     "output_type": "execute_result"
    }
   ],
   "source": [
    "jadnor = sample[\"jadwal_hi_biasa\"]\n",
    "\n",
    "jadnor = [i.strip() for i in jadnor.split(\",\")]\n",
    "\n",
    "jadnor[:5]"
   ]
  },
  {
   "cell_type": "code",
   "execution_count": 12,
   "id": "fa78b37c-5f57-42dd-a2cc-1c5fe73b23ad",
   "metadata": {},
   "outputs": [
    {
     "data": {
      "text/plain": [
       "['05:02', '05:14', '05:26', '05:38', '05:50']"
      ]
     },
     "execution_count": 12,
     "metadata": {},
     "output_type": "execute_result"
    }
   ],
   "source": [
    "jadoff = sample[\"jadwal_hi_libur\"]\n",
    "\n",
    "jadoff = [i.strip() for i in jadoff.split(\",\")]\n",
    "\n",
    "jadoff[:5]"
   ]
  },
  {
   "cell_type": "code",
   "execution_count": 13,
   "id": "3466da58-2639-4c22-8d5d-3cb250a8ebdc",
   "metadata": {},
   "outputs": [
    {
     "data": {
      "text/plain": [
       "34"
      ]
     },
     "execution_count": 13,
     "metadata": {},
     "output_type": "execute_result"
    }
   ],
   "source": [
    "selisih = len(jadnor) - len(jadoff)\n",
    "\n",
    "selisih"
   ]
  },
  {
   "cell_type": "code",
   "execution_count": 14,
   "id": "e7aa5482-d63f-4474-a638-be45042d33d8",
   "metadata": {},
   "outputs": [
    {
     "data": {
      "text/plain": [
       "[{'nid': '1222',\n",
       "  'title': 'di.bawahtangga',\n",
       "  'jenis_retail': 'retail ',\n",
       "  'cover': 'https://jakartamrt.co.id/sites/default/files/2023-09/6CCB4D18-9DB6-4F4E-A287-D179DEE9F313_1_201_a.jpeg',\n",
       "  'path': '/id/retail/dibawahtangga'}]"
      ]
     },
     "execution_count": 14,
     "metadata": {},
     "output_type": "execute_result"
    }
   ],
   "source": [
    "retail = sample[\"retails\"]\n",
    "\n",
    "retail"
   ]
  },
  {
   "cell_type": "code",
   "execution_count": 15,
   "id": "29f82e18-cb63-4362-bb81-734e145e995c",
   "metadata": {},
   "outputs": [
    {
     "data": {
      "text/plain": [
       "[{'nid': '274',\n",
       "  'title': 'Sare Hotel',\n",
       "  'jenis_fasilitas': 'Penginapan',\n",
       "  'cover': 'https://jakartamrt.co.id/sites/default/files/2020-10/sare-hotel.jpg',\n",
       "  'path': '/id/fasilitas/sare-hotel'},\n",
       " {'nid': '273',\n",
       "  'title': 'Oeang Restaurant Roastery and Bar',\n",
       "  'jenis_fasilitas': 'Restoran',\n",
       "  'cover': 'https://jakartamrt.co.id/sites/default/files/2020-10/oeang-mbloc.png',\n",
       "  'path': '/id/fasilitas/oeang-restaurant-roastery-and-bar'}]"
      ]
     },
     "execution_count": 15,
     "metadata": {},
     "output_type": "execute_result"
    }
   ],
   "source": [
    "support = sample[\"fasilitas\"]\n",
    "\n",
    "support"
   ]
  }
 ],
 "metadata": {
  "kernelspec": {
   "display_name": "Python 3 (ipykernel)",
   "language": "python",
   "name": "python3"
  },
  "language_info": {
   "codemirror_mode": {
    "name": "ipython",
    "version": 3
   },
   "file_extension": ".py",
   "mimetype": "text/x-python",
   "name": "python",
   "nbconvert_exporter": "python",
   "pygments_lexer": "ipython3",
   "version": "3.9.13"
  }
 },
 "nbformat": 4,
 "nbformat_minor": 5
}
