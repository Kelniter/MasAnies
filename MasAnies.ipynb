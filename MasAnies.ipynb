{
  "nbformat": 4,
  "nbformat_minor": 0,
  "metadata": {
    "colab": {
      "provenance": []
    },
    "kernelspec": {
      "name": "python3",
      "display_name": "Python 3"
    },
    "language_info": {
      "name": "python"
    }
  },
  "cells": [
    {
      "cell_type": "code",
      "execution_count": 1,
      "metadata": {
        "id": "_r9f8Td1RIv9"
      },
      "outputs": [],
      "source": [
        "import requests\n",
        "\n",
        "mrturl = \"https://jakartamrt.co.id/id/val/stasiuns\"\n",
        "\n",
        "opener = requests.get(mrturl)"
      ]
    },
    {
      "cell_type": "code",
      "source": [
        "data = opener.json()\n",
        "\n",
        "total = len(data)\n",
        "\n",
        "total"
      ],
      "metadata": {
        "colab": {
          "base_uri": "https://localhost:8080/"
        },
        "id": "YShTGkLcRkqB",
        "outputId": "5245feb1-5513-4a8b-9da1-d68e86a946a7"
      },
      "execution_count": 2,
      "outputs": [
        {
          "output_type": "execute_result",
          "data": {
            "text/plain": [
              "13"
            ]
          },
          "metadata": {},
          "execution_count": 2
        }
      ]
    },
    {
      "cell_type": "code",
      "source": [
        "sample = data[5]\n",
        "\n",
        "sample.keys()"
      ],
      "metadata": {
        "colab": {
          "base_uri": "https://localhost:8080/"
        },
        "id": "RHKv_t0cRnkA",
        "outputId": "9fad60d6-58a1-43a7-a055-796906c524e3"
      },
      "execution_count": 3,
      "outputs": [
        {
          "output_type": "execute_result",
          "data": {
            "text/plain": [
              "dict_keys(['nid', 'title', 'urutan', 'isbig', 'path', 'catatan', 'antarmodas', 'peta_lokalitas', 'jadwal_lb_biasa', 'jadwal_lb_libur', 'jadwal_hi_biasa', 'jadwal_hi_libur', 'banner', 'retails', 'estimasi', 'fasilitas'])"
            ]
          },
          "metadata": {},
          "execution_count": 3
        }
      ]
    },
    {
      "cell_type": "code",
      "source": [
        "title = sample[\"title\"]\n",
        "\n",
        "title"
      ],
      "metadata": {
        "colab": {
          "base_uri": "https://localhost:8080/",
          "height": 36
        },
        "id": "EIiET4neRrQU",
        "outputId": "9fb41066-ac63-40a1-d6cf-28e6779823aa"
      },
      "execution_count": 4,
      "outputs": [
        {
          "output_type": "execute_result",
          "data": {
            "text/plain": [
              "'Stasiun Blok M BCA'"
            ],
            "application/vnd.google.colaboratory.intrinsic+json": {
              "type": "string"
            }
          },
          "metadata": {},
          "execution_count": 4
        }
      ]
    },
    {
      "cell_type": "code",
      "source": [
        "antar = sample[\"antarmodas\"]\n",
        "\n",
        "antar"
      ],
      "metadata": {
        "colab": {
          "base_uri": "https://localhost:8080/",
          "height": 93
        },
        "id": "lUePTwrER_Cn",
        "outputId": "002fd91d-e7d1-4a0a-a4ac-3f872b4377d0"
      },
      "execution_count": 5,
      "outputs": [
        {
          "output_type": "execute_result",
          "data": {
            "text/plain": [
              "'Transjakarta\\r\\nKoridor 1, 1C, 6M, 7B, S21, S22\\r\\n\\r\\nMetromini\\r\\nS69, S70, S71, S74,S75,S77, S78, S610, S611, S619\\r\\n\\r\\nPPD\\r\\n38, 11, 12, 45, P36, P37, P38, P53, P67, P68, BS02, BT01, AC08, P45, AC21, AC80\\r\\n\\r\\nKopaja\\r\\nS613, S609, S605A, S608, S616, S620, S63, S66, T57\\r\\n\\r\\nMayasari Bakti\\r\\nAC05, P4, C925, C57, C107, C300, P13, P13A, P15, P27, AC06, AC28, AC34, AC49, AC121, AC134, AC137A, AC05A\\r\\n\\r\\nBianglala\\r\\n924\\r\\n\\r\\nSteady Safe\\r\\n921, 938, 939, AC30, AC32, AC65, AC66, AC89, P128, P129, P134\\r\\n\\r\\nHimpurna\\r\\n926\\r\\n\\r\\nPahala Kencana\\r\\nP116\\r\\n\\r\\nAgung Bhakti\\r\\n954, P98, AC120\\r\\n\\r\\nSinar Jaya ML\\r\\nP158\\r\\n\\r\\nARH\\r\\nAC138\\r\\n\\r\\nSJML\\r\\nAPTB09\\r\\n\\r\\nMB\\r\\nAPTB10\\r\\n\\r\\nMegah Langgeng\\r\\nAC151'"
            ],
            "application/vnd.google.colaboratory.intrinsic+json": {
              "type": "string"
            }
          },
          "metadata": {},
          "execution_count": 5
        }
      ]
    },
    {
      "cell_type": "code",
      "source": [
        "split = \"\\r\\n\\r\\n\"\n",
        "\n",
        "antar = antar.split(split)\n",
        "\n",
        "antar"
      ],
      "metadata": {
        "colab": {
          "base_uri": "https://localhost:8080/"
        },
        "id": "6b56MqiLSBqj",
        "outputId": "2c568efd-9f00-4cbd-ea13-83ad1debc178"
      },
      "execution_count": 6,
      "outputs": [
        {
          "output_type": "execute_result",
          "data": {
            "text/plain": [
              "['Transjakarta\\r\\nKoridor 1, 1C, 6M, 7B, S21, S22',\n",
              " 'Metromini\\r\\nS69, S70, S71, S74,S75,S77, S78, S610, S611, S619',\n",
              " 'PPD\\r\\n38, 11, 12, 45, P36, P37, P38, P53, P67, P68, BS02, BT01, AC08, P45, AC21, AC80',\n",
              " 'Kopaja\\r\\nS613, S609, S605A, S608, S616, S620, S63, S66, T57',\n",
              " 'Mayasari Bakti\\r\\nAC05, P4, C925, C57, C107, C300, P13, P13A, P15, P27, AC06, AC28, AC34, AC49, AC121, AC134, AC137A, AC05A',\n",
              " 'Bianglala\\r\\n924',\n",
              " 'Steady Safe\\r\\n921, 938, 939, AC30, AC32, AC65, AC66, AC89, P128, P129, P134',\n",
              " 'Himpurna\\r\\n926',\n",
              " 'Pahala Kencana\\r\\nP116',\n",
              " 'Agung Bhakti\\r\\n954, P98, AC120',\n",
              " 'Sinar Jaya ML\\r\\nP158',\n",
              " 'ARH\\r\\nAC138',\n",
              " 'SJML\\r\\nAPTB09',\n",
              " 'MB\\r\\nAPTB10',\n",
              " 'Megah Langgeng\\r\\nAC151']"
            ]
          },
          "metadata": {},
          "execution_count": 6
        }
      ]
    },
    {
      "cell_type": "code",
      "source": [
        "repl = \"\\r\\n\"\n",
        "\n",
        "antar = [i.replace(repl, \" \") for i in antar]\n",
        "\n",
        "antar"
      ],
      "metadata": {
        "colab": {
          "base_uri": "https://localhost:8080/"
        },
        "id": "w9d20eKOSFQo",
        "outputId": "f440c382-2ea4-4878-c3c4-619f21cb5a01"
      },
      "execution_count": 7,
      "outputs": [
        {
          "output_type": "execute_result",
          "data": {
            "text/plain": [
              "['Transjakarta Koridor 1, 1C, 6M, 7B, S21, S22',\n",
              " 'Metromini S69, S70, S71, S74,S75,S77, S78, S610, S611, S619',\n",
              " 'PPD 38, 11, 12, 45, P36, P37, P38, P53, P67, P68, BS02, BT01, AC08, P45, AC21, AC80',\n",
              " 'Kopaja S613, S609, S605A, S608, S616, S620, S63, S66, T57',\n",
              " 'Mayasari Bakti AC05, P4, C925, C57, C107, C300, P13, P13A, P15, P27, AC06, AC28, AC34, AC49, AC121, AC134, AC137A, AC05A',\n",
              " 'Bianglala 924',\n",
              " 'Steady Safe 921, 938, 939, AC30, AC32, AC65, AC66, AC89, P128, P129, P134',\n",
              " 'Himpurna 926',\n",
              " 'Pahala Kencana P116',\n",
              " 'Agung Bhakti 954, P98, AC120',\n",
              " 'Sinar Jaya ML P158',\n",
              " 'ARH AC138',\n",
              " 'SJML APTB09',\n",
              " 'MB APTB10',\n",
              " 'Megah Langgeng AC151']"
            ]
          },
          "metadata": {},
          "execution_count": 7
        }
      ]
    },
    {
      "cell_type": "code",
      "source": [
        "jadwal = sample[\"jadwal_lb_biasa\"]\n",
        "\n",
        "jadwal = jadwal.split(\",\")\n",
        "\n",
        "jadwal[:5]"
      ],
      "metadata": {
        "colab": {
          "base_uri": "https://localhost:8080/"
        },
        "id": "GqjmgJw6SwdZ",
        "outputId": "b39d0b97-5821-46fb-c941-363e65a87b02"
      },
      "execution_count": 8,
      "outputs": [
        {
          "output_type": "execute_result",
          "data": {
            "text/plain": [
              "['05:22', ' 05:37', ' 05:49', ' 06:01', ' 06:13']"
            ]
          },
          "metadata": {},
          "execution_count": 8
        }
      ]
    },
    {
      "cell_type": "code",
      "source": [
        "jadwal = [i.strip() for i in jadwal]\n",
        "\n",
        "jadwal[:5]"
      ],
      "metadata": {
        "colab": {
          "base_uri": "https://localhost:8080/"
        },
        "id": "GmHxs_TdS20V",
        "outputId": "37806e54-3ce6-4972-c2c3-cefeb6b42aec"
      },
      "execution_count": 9,
      "outputs": [
        {
          "output_type": "execute_result",
          "data": {
            "text/plain": [
              "['05:22', '05:37', '05:49', '06:01', '06:13']"
            ]
          },
          "metadata": {},
          "execution_count": 9
        }
      ]
    },
    {
      "cell_type": "code",
      "source": [
        "normal = len(jadwal)\n",
        "\n",
        "normal"
      ],
      "metadata": {
        "colab": {
          "base_uri": "https://localhost:8080/"
        },
        "id": "IGOLR0H2S6tu",
        "outputId": "9434cf46-db49-494e-9217-74097f27736d"
      },
      "execution_count": 10,
      "outputs": [
        {
          "output_type": "execute_result",
          "data": {
            "text/plain": [
              "140"
            ]
          },
          "metadata": {},
          "execution_count": 10
        }
      ]
    },
    {
      "cell_type": "code",
      "source": [
        "jadwal = sample[\"jadwal_lb_libur\"]\n",
        "\n",
        "jadwal = jadwal.split(\",\")\n",
        "\n",
        "jadwal = [i.strip() for i in jadwal]\n",
        "\n",
        "jadwal[:5]"
      ],
      "metadata": {
        "colab": {
          "base_uri": "https://localhost:8080/"
        },
        "id": "s_IaPdJPS9B1",
        "outputId": "4b65e05f-1812-4954-f53f-469182de9751"
      },
      "execution_count": 11,
      "outputs": [
        {
          "output_type": "execute_result",
          "data": {
            "text/plain": [
              "['05:21', '05:36', '05:48', '06:00', '06:12']"
            ]
          },
          "metadata": {},
          "execution_count": 11
        }
      ]
    },
    {
      "cell_type": "code",
      "source": [
        "libur = len(jadwal)\n",
        "\n",
        "libur"
      ],
      "metadata": {
        "colab": {
          "base_uri": "https://localhost:8080/"
        },
        "id": "Ky2L5Tf2TCmR",
        "outputId": "1cd89fdb-681a-40fd-eed0-f59046f4ee5c"
      },
      "execution_count": 12,
      "outputs": [
        {
          "output_type": "execute_result",
          "data": {
            "text/plain": [
              "109"
            ]
          },
          "metadata": {},
          "execution_count": 12
        }
      ]
    },
    {
      "cell_type": "code",
      "source": [
        "selisih = normal - libur\n",
        "\n",
        "selisih"
      ],
      "metadata": {
        "colab": {
          "base_uri": "https://localhost:8080/"
        },
        "id": "zbdjS8TsTITt",
        "outputId": "278327a8-a324-4100-c114-21bff305cb0f"
      },
      "execution_count": 13,
      "outputs": [
        {
          "output_type": "execute_result",
          "data": {
            "text/plain": [
              "31"
            ]
          },
          "metadata": {},
          "execution_count": 13
        }
      ]
    },
    {
      "cell_type": "code",
      "source": [
        "jadwal = sample[\"jadwal_hi_biasa\"]\n",
        "\n",
        "jadwal = jadwal.split(\",\")\n",
        "\n",
        "jadwal = [i.strip() for i in jadwal]\n",
        "\n",
        "jadwal[:5]"
      ],
      "metadata": {
        "colab": {
          "base_uri": "https://localhost:8080/"
        },
        "id": "O9iyEOzdTK5r",
        "outputId": "e8bee122-679b-4f72-f6e5-b694d7894dae"
      },
      "execution_count": 14,
      "outputs": [
        {
          "output_type": "execute_result",
          "data": {
            "text/plain": [
              "['05:00', '05:13', '05:25', '05:37', '05:49']"
            ]
          },
          "metadata": {},
          "execution_count": 14
        }
      ]
    },
    {
      "cell_type": "code",
      "source": [
        "normal = len(jadwal)\n",
        "\n",
        "normal"
      ],
      "metadata": {
        "colab": {
          "base_uri": "https://localhost:8080/"
        },
        "id": "KevgmpQVTSO0",
        "outputId": "0fb7df96-d281-4a44-ac22-2d39257a72ad"
      },
      "execution_count": 15,
      "outputs": [
        {
          "output_type": "execute_result",
          "data": {
            "text/plain": [
              "142"
            ]
          },
          "metadata": {},
          "execution_count": 15
        }
      ]
    },
    {
      "cell_type": "code",
      "source": [
        "jadwal = sample[\"jadwal_hi_libur\"]\n",
        "\n",
        "jadwal = jadwal.split(\",\")\n",
        "\n",
        "jadwal = [i.strip() for i in jadwal]\n",
        "\n",
        "jadwal[:5]"
      ],
      "metadata": {
        "colab": {
          "base_uri": "https://localhost:8080/"
        },
        "id": "vTaGqQflTUpb",
        "outputId": "05c74ba9-7540-4c29-85c9-5715ec0859ba"
      },
      "execution_count": 16,
      "outputs": [
        {
          "output_type": "execute_result",
          "data": {
            "text/plain": [
              "['05:00', '05:12', '05:24', '05:36', '05:48']"
            ]
          },
          "metadata": {},
          "execution_count": 16
        }
      ]
    },
    {
      "cell_type": "code",
      "source": [
        "libur = len(jadwal)\n",
        "\n",
        "libur"
      ],
      "metadata": {
        "colab": {
          "base_uri": "https://localhost:8080/"
        },
        "id": "q8vUd2m6TV3f",
        "outputId": "98a321dd-6ced-47c7-ae4e-d913a45eeb79"
      },
      "execution_count": 17,
      "outputs": [
        {
          "output_type": "execute_result",
          "data": {
            "text/plain": [
              "110"
            ]
          },
          "metadata": {},
          "execution_count": 17
        }
      ]
    },
    {
      "cell_type": "code",
      "source": [
        "selisih = normal - libur\n",
        "\n",
        "selisih"
      ],
      "metadata": {
        "colab": {
          "base_uri": "https://localhost:8080/"
        },
        "id": "cqneUqPZTX8K",
        "outputId": "c246eba8-cf4c-4a6c-83bc-c9cc3281b30d"
      },
      "execution_count": 18,
      "outputs": [
        {
          "output_type": "execute_result",
          "data": {
            "text/plain": [
              "32"
            ]
          },
          "metadata": {},
          "execution_count": 18
        }
      ]
    },
    {
      "cell_type": "code",
      "source": [
        "retail = sample[\"retails\"]\n",
        "\n",
        "type(retail)"
      ],
      "metadata": {
        "colab": {
          "base_uri": "https://localhost:8080/"
        },
        "id": "SJkOvgKwTZvb",
        "outputId": "cfb0bdb5-2f75-4005-eeaa-4472b21aba6d"
      },
      "execution_count": 19,
      "outputs": [
        {
          "output_type": "execute_result",
          "data": {
            "text/plain": [
              "list"
            ]
          },
          "metadata": {},
          "execution_count": 19
        }
      ]
    },
    {
      "cell_type": "code",
      "source": [
        "len(retail)"
      ],
      "metadata": {
        "colab": {
          "base_uri": "https://localhost:8080/"
        },
        "id": "fCFTGaJ2TzXu",
        "outputId": "3f846caa-0864-4f7b-d2c4-2e4857df919d"
      },
      "execution_count": 20,
      "outputs": [
        {
          "output_type": "execute_result",
          "data": {
            "text/plain": [
              "7"
            ]
          },
          "metadata": {},
          "execution_count": 20
        }
      ]
    },
    {
      "cell_type": "code",
      "source": [
        "fasil = sample[\"fasilitas\"]\n",
        "\n",
        "fasil"
      ],
      "metadata": {
        "colab": {
          "base_uri": "https://localhost:8080/"
        },
        "id": "GnPOsTS1YD0n",
        "outputId": "7a545a74-7027-44cc-f84d-94c635ff8c93"
      },
      "execution_count": 21,
      "outputs": [
        {
          "output_type": "execute_result",
          "data": {
            "text/plain": [
              "[{'nid': '267',\n",
              "  'title': 'Blok M Office Space',\n",
              "  'jenis_fasilitas': 'Coworking Space',\n",
              "  'cover': 'https://jakartamrt.co.id/sites/default/files/2020-10/sponge.jpg',\n",
              "  'path': '/id/fasilitas/blok-m-office-space'},\n",
              " {'nid': '268',\n",
              "  'title': 'Neo Hotel Melawai',\n",
              "  'jenis_fasilitas': 'Penginapan',\n",
              "  'cover': 'https://jakartamrt.co.id/sites/default/files/2020-10/hotel-neo-melawai.jpg',\n",
              "  'path': '/id/fasilitas/neo-hotel-melawai'},\n",
              " {'nid': '270',\n",
              "  'title': \"D'prima hotel Melawai\",\n",
              "  'jenis_fasilitas': 'Penginapan',\n",
              "  'cover': 'https://jakartamrt.co.id/sites/default/files/2020-10/dprima-hotel.jpg',\n",
              "  'path': '/id/fasilitas/dprima-hotel-melawai'},\n",
              " {'nid': '272',\n",
              "  'title': ' Golden Boutique Hotel Melawai',\n",
              "  'jenis_fasilitas': 'Penginapan',\n",
              "  'cover': 'https://jakartamrt.co.id/sites/default/files/2020-10/golden-boutique-melawai.jpg',\n",
              "  'path': '/id/fasilitas/golden-boutique-hotel-melawai'},\n",
              " {'nid': '266',\n",
              "  'title': 'Kashiwa',\n",
              "  'jenis_fasilitas': 'Restoran',\n",
              "  'cover': 'https://jakartamrt.co.id/sites/default/files/2020-10/kashiwa-blok-m.jpg',\n",
              "  'path': '/id/fasilitas/kashiwa'},\n",
              " {'nid': '269',\n",
              "  'title': 'Ichiban Sushi',\n",
              "  'jenis_fasilitas': 'Restoran',\n",
              "  'cover': 'https://jakartamrt.co.id/sites/default/files/2020-10/ichiban-sushi.jpg',\n",
              "  'path': '/id/fasilitas/ichiban-sushi'},\n",
              " {'nid': '271',\n",
              "  'title': 'Hoka-Hoka Bento',\n",
              "  'jenis_fasilitas': 'Restoran',\n",
              "  'cover': 'https://jakartamrt.co.id/sites/default/files/2020-10/HokBen_new_logo.png',\n",
              "  'path': '/id/fasilitas/hoka-hoka-bento'}]"
            ]
          },
          "metadata": {},
          "execution_count": 21
        }
      ]
    },
    {
      "cell_type": "code",
      "source": [
        "perjalanan = sample[\"estimasi\"]\n",
        "\n",
        "perjalanan"
      ],
      "metadata": {
        "colab": {
          "base_uri": "https://localhost:8080/"
        },
        "id": "jP8IdKtPYINN",
        "outputId": "3b25a0e5-6724-450f-e7d5-a765651672b3"
      },
      "execution_count": 22,
      "outputs": [
        {
          "output_type": "execute_result",
          "data": {
            "text/plain": [
              "[{'stasiun_nid': '20', 'tarif': '8000', 'waktu': '13'},\n",
              " {'stasiun_nid': '21', 'tarif': '7000', 'waktu': '10'},\n",
              " {'stasiun_nid': '29', 'tarif': '5000', 'waktu': '7'},\n",
              " {'stasiun_nid': '30', 'tarif': '4000', 'waktu': '5'},\n",
              " {'stasiun_nid': '31', 'tarif': '3000', 'waktu': '3'},\n",
              " {'stasiun_nid': '33', 'tarif': '3000', 'waktu': '2'},\n",
              " {'stasiun_nid': '34', 'tarif': '4000', 'waktu': '4'},\n",
              " {'stasiun_nid': '35', 'tarif': '5000', 'waktu': '6'},\n",
              " {'stasiun_nid': '36', 'tarif': '6000', 'waktu': '9'},\n",
              " {'stasiun_nid': '37', 'tarif': '6000', 'waktu': '11'},\n",
              " {'stasiun_nid': '38', 'tarif': '7000', 'waktu': '13'},\n",
              " {'stasiun_nid': '39', 'tarif': '8000', 'waktu': '16'}]"
            ]
          },
          "metadata": {},
          "execution_count": 22
        }
      ]
    },
    {
      "cell_type": "markdown",
      "source": [
        "### ```General```"
      ],
      "metadata": {
        "id": "K9Ivsr-7ZEVE"
      }
    },
    {
      "cell_type": "code",
      "source": [
        "import warnings\n",
        "\n",
        "warnings.filterwarnings(\"ignore\")\n",
        "\n",
        "import matplotlib.pyplot as plt\n",
        "\n",
        "plt.style.use('seaborn-whitegrid')"
      ],
      "metadata": {
        "id": "GAs-93IfZFzA"
      },
      "execution_count": 23,
      "outputs": []
    },
    {
      "cell_type": "code",
      "source": [
        "total_retail = {\"Umkm\":0, \"Atm\":0, \"Retail\":0, \"Fashion\":0, \"Makanan\":0, \"Mesin Top Up\":0, \"Vending Machine\":0}\n",
        "\n",
        "for i in range(total):\n",
        "\n",
        "  sample = data[i]\n",
        "\n",
        "  retail = sample[\"retails\"]\n",
        "\n",
        "  for ret in retail:\n",
        "\n",
        "    jenis = ret[\"jenis_retail\"]\n",
        "\n",
        "    if not jenis:\n",
        "      continue\n",
        "\n",
        "    jenis = [i.capitalize() for i in jenis.strip().split(\" \")]\n",
        "\n",
        "    jenis = \" \".join(jenis)\n",
        "\n",
        "    if jenis == \"Fesyen\":\n",
        "\n",
        "      jenis = \"Fashion\"\n",
        "\n",
        "    if jenis not in total_retail.keys():\n",
        "      total_retail[jenis] = 1\n",
        "    else:\n",
        "      total_retail[jenis] += 1\n",
        "\n",
        "print(total_retail)"
      ],
      "metadata": {
        "colab": {
          "base_uri": "https://localhost:8080/"
        },
        "id": "PGfWQ4CPdVJr",
        "outputId": "29fd71ff-0e2e-4b5d-cea2-da440d6a3ef3"
      },
      "execution_count": 24,
      "outputs": [
        {
          "output_type": "stream",
          "name": "stdout",
          "text": [
            "{'Umkm': 9, 'Atm': 11, 'Retail': 24, 'Fashion': 1, 'Makanan': 1, 'Mesin Top Up': 2, 'Vending Machine': 11}\n"
          ]
        }
      ]
    },
    {
      "cell_type": "code",
      "source": [
        "fig, ax = plt.subplots(figsize=(10, 5))\n",
        "\n",
        "ax.bar(total_retail.keys(), total_retail.values())\n",
        "\n",
        "ax.set_title(\"Total Retail Seluruh Statiun\")\n",
        "\n",
        "ax.set_xlabel(\"Retail\")\n",
        "\n",
        "ax.set_ylabel(\"Total\")\n",
        "\n",
        "ax.bar_label(ax.containers[0]);"
      ],
      "metadata": {
        "colab": {
          "base_uri": "https://localhost:8080/",
          "height": 480
        },
        "id": "diskg3KTeg9K",
        "outputId": "ae1396cc-91a0-45f4-cb17-6f14b91192b5"
      },
      "execution_count": 25,
      "outputs": [
        {
          "output_type": "display_data",
          "data": {
            "text/plain": [
              "<Figure size 1000x500 with 1 Axes>"
            ],
            "image/png": "[encoded data removed]"
          },
          "metadata": {}
        }
      ]
    },
    {
      "cell_type": "code",
      "source": [
        "total_fasilitas = {}\n",
        "\n",
        "for i in range(total):\n",
        "\n",
        "  sample = data[i]\n",
        "\n",
        "  retail = sample[\"fasilitas\"]\n",
        "\n",
        "  for ret in retail:\n",
        "\n",
        "    jenis = ret[\"jenis_fasilitas\"]\n",
        "\n",
        "    jenis = [i.capitalize() for i in jenis.strip().split(\" \")]\n",
        "\n",
        "    jenis = \" \".join(jenis)\n",
        "\n",
        "    if jenis not in total_fasilitas.keys():\n",
        "      total_fasilitas[jenis] = 1\n",
        "    else:\n",
        "      total_fasilitas[jenis] += 1"
      ],
      "metadata": {
        "id": "k5yiGyU_fkBH"
      },
      "execution_count": 26,
      "outputs": []
    },
    {
      "cell_type": "code",
      "source": [
        "fig, ax = plt.subplots(figsize=(10, 5))\n",
        "\n",
        "ax.bar(total_fasilitas.keys(), total_fasilitas.values())\n",
        "\n",
        "ax.set_title(\"Total Fasilitas Seluruh Statiun\")\n",
        "\n",
        "ax.set_xlabel(\"Fasilitas\")\n",
        "\n",
        "ax.set_ylabel(\"Total\")\n",
        "\n",
        "ax.bar_label(ax.containers[0]);"
      ],
      "metadata": {
        "colab": {
          "base_uri": "https://localhost:8080/",
          "height": 480
        },
        "id": "6tZvE18GfzrM",
        "outputId": "efdab497-6d0e-4b49-dac9-f676ccc2a9d0"
      },
      "execution_count": 27,
      "outputs": [
        {
          "output_type": "display_data",
          "data": {
            "text/plain": [
              "<Figure size 1000x500 with 1 Axes>"
            ],
            "image/png": "[encoded data removed]"
          },
          "metadata": {}
        }
      ]
    },
    {
      "cell_type": "code",
      "source": [
        "def jadtelp(sample):\n",
        "  if not sample:\n",
        "    return []\n",
        "  sample = sample.split(\",\")\n",
        "  sample = [i.strip() for i in sample]\n",
        "  return sample"
      ],
      "metadata": {
        "id": "ul6riIcPhwEl"
      },
      "execution_count": 28,
      "outputs": []
    },
    {
      "cell_type": "code",
      "source": [
        "perjalanan = {\"biasa\":[], \"libur\":[], \"selisih\":[]}\n",
        "\n",
        "for i in range(total):\n",
        "\n",
        "  sample = data[i]\n",
        "\n",
        "  biasa = sample[\"jadwal_hi_biasa\"]\n",
        "\n",
        "  biasa = len(jadtelp(biasa))\n",
        "\n",
        "  libur = sample[\"jadwal_hi_libur\"]\n",
        "\n",
        "  libur = len(jadtelp(libur))\n",
        "\n",
        "  selisih = biasa - libur\n",
        "\n",
        "  perjalanan[\"biasa\"].append(biasa)\n",
        "\n",
        "  perjalanan[\"libur\"].append(libur)\n",
        "\n",
        "  perjalanan[\"selisih\"].append(selisih)\n",
        "\n",
        "perjalanan"
      ],
      "metadata": {
        "colab": {
          "base_uri": "https://localhost:8080/"
        },
        "id": "JgJHYDHDhL4m",
        "outputId": "4603400a-1a8c-4bd0-c08f-40904e181b44"
      },
      "execution_count": 29,
      "outputs": [
        {
          "output_type": "execute_result",
          "data": {
            "text/plain": [
              "{'biasa': [142, 142, 142, 142, 142, 142, 143, 147, 142, 142, 144, 143, 0],\n",
              " 'libur': [109, 109, 109, 109, 108, 110, 109, 109, 109, 108, 109, 109, 0],\n",
              " 'selisih': [33, 33, 33, 33, 34, 32, 34, 38, 33, 34, 35, 34, 0]}"
            ]
          },
          "metadata": {},
          "execution_count": 29
        }
      ]
    },
    {
      "cell_type": "code",
      "source": [
        "import numpy\n",
        "\n",
        "bundaran = {\"biasa\":int(numpy.mean(perjalanan[\"biasa\"])), \"libur\":int(numpy.mean(perjalanan[\"libur\"])), \"selisih\":int(numpy.mean(perjalanan[\"selisih\"]))}\n",
        "\n",
        "bundaran"
      ],
      "metadata": {
        "colab": {
          "base_uri": "https://localhost:8080/"
        },
        "id": "--j3NTU8ivP9",
        "outputId": "7b66c0f1-bbaa-4f58-cddb-a0388d97ab58"
      },
      "execution_count": 30,
      "outputs": [
        {
          "output_type": "execute_result",
          "data": {
            "text/plain": [
              "{'biasa': 131, 'libur': 100, 'selisih': 31}"
            ]
          },
          "metadata": {},
          "execution_count": 30
        }
      ]
    },
    {
      "cell_type": "code",
      "source": [
        "perjalanan = {\"biasa\":[], \"libur\":[], \"selisih\":[]}\n",
        "\n",
        "for i in range(total):\n",
        "\n",
        "  sample = data[i]\n",
        "\n",
        "  biasa = sample[\"jadwal_lb_biasa\"]\n",
        "\n",
        "  biasa = len(jadtelp(biasa))\n",
        "\n",
        "  libur = sample[\"jadwal_lb_libur\"]\n",
        "\n",
        "  libur = len(jadtelp(libur))\n",
        "\n",
        "  selisih = biasa - libur\n",
        "\n",
        "  perjalanan[\"biasa\"].append(biasa)\n",
        "\n",
        "  perjalanan[\"libur\"].append(libur)\n",
        "\n",
        "  perjalanan[\"selisih\"].append(selisih)\n",
        "\n",
        "perjalanan"
      ],
      "metadata": {
        "colab": {
          "base_uri": "https://localhost:8080/"
        },
        "id": "1GvLtDUzjByM",
        "outputId": "a6f0ec16-af5c-49ca-9dc3-01489bd194a2"
      },
      "execution_count": 31,
      "outputs": [
        {
          "output_type": "execute_result",
          "data": {
            "text/plain": [
              "{'biasa': [0, 143, 142, 142, 141, 140, 142, 142, 141, 139, 142, 143, 142],\n",
              " 'libur': [0, 109, 109, 108, 109, 109, 109, 108, 109, 108, 108, 109, 109],\n",
              " 'selisih': [0, 34, 33, 34, 32, 31, 33, 34, 32, 31, 34, 34, 33]}"
            ]
          },
          "metadata": {},
          "execution_count": 31
        }
      ]
    },
    {
      "cell_type": "code",
      "source": [
        "import numpy\n",
        "\n",
        "lebak = {\"biasa\":int(numpy.mean(perjalanan[\"biasa\"])), \"libur\":int(numpy.mean(perjalanan[\"libur\"])), \"selisih\":int(numpy.mean(perjalanan[\"selisih\"]))}\n",
        "\n",
        "lebak"
      ],
      "metadata": {
        "colab": {
          "base_uri": "https://localhost:8080/"
        },
        "id": "0802NRrGjE0P",
        "outputId": "2f0a03f9-dd9b-43af-e8e3-62762f90b976"
      },
      "execution_count": 32,
      "outputs": [
        {
          "output_type": "execute_result",
          "data": {
            "text/plain": [
              "{'biasa': 130, 'libur': 100, 'selisih': 30}"
            ]
          },
          "metadata": {},
          "execution_count": 32
        }
      ]
    },
    {
      "cell_type": "code",
      "source": [
        "longt = 0\n",
        "\n",
        "for i in range(total):\n",
        "\n",
        "  sample = data[i]\n",
        "\n",
        "  perjalan = sample[\"estimasi\"]\n",
        "\n",
        "  for jalan in perjalan:\n",
        "\n",
        "    time = int(jalan[\"waktu\"])\n",
        "\n",
        "    if time > longt:\n",
        "      longt = time\n",
        "\n",
        "print(longt)"
      ],
      "metadata": {
        "colab": {
          "base_uri": "https://localhost:8080/"
        },
        "id": "XaKC1dODkP8-",
        "outputId": "053c2c34-3bf2-4e9e-c951-d7712cbc3c42"
      },
      "execution_count": 33,
      "outputs": [
        {
          "output_type": "stream",
          "name": "stdout",
          "text": [
            "29\n"
          ]
        }
      ]
    },
    {
      "cell_type": "code",
      "source": [
        "price = 0\n",
        "\n",
        "for i in range(total):\n",
        "\n",
        "  sample = data[i]\n",
        "\n",
        "  perjalan = sample[\"estimasi\"]\n",
        "\n",
        "  for jalan in perjalan:\n",
        "\n",
        "    tarif = int(jalan[\"tarif\"])\n",
        "\n",
        "    if tarif > price:\n",
        "      price = tarif\n",
        "\n",
        "print(price)"
      ],
      "metadata": {
        "colab": {
          "base_uri": "https://localhost:8080/"
        },
        "id": "uvbbCt9WmleA",
        "outputId": "f814acc4-d4c6-4c9b-d499-bff144a1b730"
      },
      "execution_count": 34,
      "outputs": [
        {
          "output_type": "stream",
          "name": "stdout",
          "text": [
            "14000\n"
          ]
        }
      ]
    }
  ]
}