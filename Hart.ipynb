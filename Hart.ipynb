{
  "nbformat": 4,
  "nbformat_minor": 0,
  "metadata": {
    "colab": {
      "provenance": []
    },
    "kernelspec": {
      "name": "python3",
      "display_name": "Python 3"
    },
    "language_info": {
      "name": "python"
    }
  },
  "cells": [
    {
      "cell_type": "code",
      "execution_count": null,
      "metadata": {
        "id": "xce3L4AbV17s"
      },
      "outputs": [],
      "source": [
        "import requests\n",
        "\n",
        "mrturl = \"https://jakartamrt.co.id/id/val/stasiuns\"\n",
        "\n",
        "opener = requests.get(mrturl)"
      ]
    },
    {
      "cell_type": "code",
      "source": [
        "data = opener.json()\n",
        "\n",
        "total = len(data)\n",
        "\n",
        "total"
      ],
      "metadata": {
        "id": "fx_ycNlEWG8o",
        "colab": {
          "base_uri": "https://localhost:8080/"
        },
        "outputId": "83639580-25ca-434d-b2a3-70082dea42fa"
      },
      "execution_count": null,
      "outputs": [
        {
          "output_type": "execute_result",
          "data": {
            "text/plain": [
              "13"
            ]
          },
          "metadata": {},
          "execution_count": 2
        }
      ]
    },
    {
      "cell_type": "code",
      "source": [
        "sample = data[6]\n",
        "\n",
        "sample.keys()"
      ],
      "metadata": {
        "id": "NMgfikgkWKK3",
        "colab": {
          "base_uri": "https://localhost:8080/"
        },
        "outputId": "819c0463-f77e-4969-e674-4ff837717fd4"
      },
      "execution_count": null,
      "outputs": [
        {
          "output_type": "execute_result",
          "data": {
            "text/plain": [
              "dict_keys(['nid', 'title', 'urutan', 'isbig', 'path', 'catatan', 'antarmodas', 'peta_lokalitas', 'jadwal_lb_biasa', 'jadwal_lb_libur', 'jadwal_hi_biasa', 'jadwal_hi_libur', 'banner', 'retails', 'estimasi', 'fasilitas'])"
            ]
          },
          "metadata": {},
          "execution_count": 3
        }
      ]
    },
    {
      "cell_type": "code",
      "source": [
        "title = sample[\"title\"]\n",
        "\n",
        "title"
      ],
      "metadata": {
        "id": "hk8COO_cWQ7Y",
        "colab": {
          "base_uri": "https://localhost:8080/",
          "height": 36
        },
        "outputId": "b835260b-b619-4d14-ff4d-445780064c86"
      },
      "execution_count": null,
      "outputs": [
        {
          "output_type": "execute_result",
          "data": {
            "text/plain": [
              "'Stasiun ASEAN'"
            ],
            "application/vnd.google.colaboratory.intrinsic+json": {
              "type": "string"
            }
          },
          "metadata": {},
          "execution_count": 4
        }
      ]
    },
    {
      "cell_type": "code",
      "source": [
        "antar = sample[\"antarmodas\"]\n",
        "\n",
        "antar"
      ],
      "metadata": {
        "colab": {
          "base_uri": "https://localhost:8080/",
          "height": 36
        },
        "id": "Ph-J0FrnWMvt",
        "outputId": "061386cf-4acd-49ef-9070-c8a025024e46"
      },
      "execution_count": null,
      "outputs": [
        {
          "output_type": "execute_result",
          "data": {
            "text/plain": [
              "'Kopaja\\r\\nS13\\r\\n\\r\\nMayasari Bakti\\r\\nC300'"
            ],
            "application/vnd.google.colaboratory.intrinsic+json": {
              "type": "string"
            }
          },
          "metadata": {},
          "execution_count": 5
        }
      ]
    },
    {
      "cell_type": "code",
      "source": [
        "split = \"\\r\\n\\r\\n\"\n",
        "\n",
        "antar = antar.split(split)\n",
        "\n",
        "antar"
      ],
      "metadata": {
        "colab": {
          "base_uri": "https://localhost:8080/"
        },
        "id": "83ucSuwIWNG7",
        "outputId": "12535b46-f43e-4c98-9a9b-f67f1cfe54c0"
      },
      "execution_count": null,
      "outputs": [
        {
          "output_type": "execute_result",
          "data": {
            "text/plain": [
              "['Kopaja\\r\\nS13', 'Mayasari Bakti\\r\\nC300']"
            ]
          },
          "metadata": {},
          "execution_count": 6
        }
      ]
    },
    {
      "cell_type": "code",
      "source": [
        "repl = \"\\r\\n\"\n",
        "\n",
        "antar = [i.replace(repl, \" \") for i in antar]\n",
        "\n",
        "antar"
      ],
      "metadata": {
        "colab": {
          "base_uri": "https://localhost:8080/"
        },
        "id": "HIu8Yws6WOc2",
        "outputId": "262a7995-e082-4e5f-d072-85ac24df2fe4"
      },
      "execution_count": null,
      "outputs": [
        {
          "output_type": "execute_result",
          "data": {
            "text/plain": [
              "['Kopaja S13', 'Mayasari Bakti C300']"
            ]
          },
          "metadata": {},
          "execution_count": 7
        }
      ]
    },
    {
      "cell_type": "code",
      "source": [
        "jadnor = sample[\"jadwal_lb_biasa\"]\n",
        "\n",
        "jadnor = [i.strip() for i in jadnor.split(\",\")]\n",
        "\n",
        "jadnor[:5]"
      ],
      "metadata": {
        "colab": {
          "base_uri": "https://localhost:8080/"
        },
        "id": "RWvQStwdUb4I",
        "outputId": "a19eca3f-b9fb-4ba1-871e-9609aa305a3d"
      },
      "execution_count": null,
      "outputs": [
        {
          "output_type": "execute_result",
          "data": {
            "text/plain": [
              "['05:19', '05:34', '05:46', '05:58', '06:10']"
            ]
          },
          "metadata": {},
          "execution_count": 8
        }
      ]
    },
    {
      "cell_type": "code",
      "source": [
        "jadoff = sample[\"jadwal_lb_libur\"]\n",
        "\n",
        "jadoff = [i.strip() for i in jadoff.split(\",\")]\n",
        "\n",
        "jadoff[:5]"
      ],
      "metadata": {
        "colab": {
          "base_uri": "https://localhost:8080/"
        },
        "id": "x97hM14wUgC1",
        "outputId": "27673126-a7d5-4f14-e205-809c61b625b4"
      },
      "execution_count": null,
      "outputs": [
        {
          "output_type": "execute_result",
          "data": {
            "text/plain": [
              "['05:19', '05:34', '05:46', '05:58', '06:10']"
            ]
          },
          "metadata": {},
          "execution_count": 9
        }
      ]
    },
    {
      "cell_type": "code",
      "source": [
        "selisih = len(jadnor) - len(jadoff)\n",
        "\n",
        "selisih"
      ],
      "metadata": {
        "colab": {
          "base_uri": "https://localhost:8080/"
        },
        "id": "JpJmLH3sU-eR",
        "outputId": "9759c2e9-6f80-4430-a393-99257d5e241c"
      },
      "execution_count": null,
      "outputs": [
        {
          "output_type": "execute_result",
          "data": {
            "text/plain": [
              "33"
            ]
          },
          "metadata": {},
          "execution_count": 10
        }
      ]
    },
    {
      "cell_type": "code",
      "source": [
        "jadnor = sample[\"jadwal_hi_biasa\"]\n",
        "\n",
        "jadnor = [i.strip() for i in jadnor.split(\",\")]\n",
        "\n",
        "jadnor[:5]"
      ],
      "metadata": {
        "colab": {
          "base_uri": "https://localhost:8080/"
        },
        "id": "S6bRQVlLVDZw",
        "outputId": "88b16800-b218-4fcf-86fe-9e454aba324e"
      },
      "execution_count": null,
      "outputs": [
        {
          "output_type": "execute_result",
          "data": {
            "text/plain": [
              "['05:02', '05:15', '05:27', '05:39', '05:51']"
            ]
          },
          "metadata": {},
          "execution_count": 11
        }
      ]
    },
    {
      "cell_type": "code",
      "source": [
        "jadoff = sample[\"jadwal_hi_libur\"]\n",
        "\n",
        "jadoff = [i.strip() for i in jadoff.split(\",\")]\n",
        "\n",
        "jadoff[:5]"
      ],
      "metadata": {
        "colab": {
          "base_uri": "https://localhost:8080/"
        },
        "id": "Rt_SCvG4VgVM",
        "outputId": "df04af39-b133-419b-91ab-d7294b8c6673"
      },
      "execution_count": null,
      "outputs": [
        {
          "output_type": "execute_result",
          "data": {
            "text/plain": [
              "['05:02', '05:14', '05:26', '05:38', '05:50']"
            ]
          },
          "metadata": {},
          "execution_count": 12
        }
      ]
    },
    {
      "cell_type": "code",
      "source": [
        "selisih = len(jadnor) - len(jadoff)\n",
        "\n",
        "selisih"
      ],
      "metadata": {
        "colab": {
          "base_uri": "https://localhost:8080/"
        },
        "id": "rTKIVXhzVh1o",
        "outputId": "21bd43c5-247f-4c92-dea6-69a187702154"
      },
      "execution_count": null,
      "outputs": [
        {
          "output_type": "execute_result",
          "data": {
            "text/plain": [
              "34"
            ]
          },
          "metadata": {},
          "execution_count": 13
        }
      ]
    },
    {
      "cell_type": "code",
      "source": [
        "retail = sample[\"retails\"]\n",
        "\n",
        "retail"
      ],
      "metadata": {
        "colab": {
          "base_uri": "https://localhost:8080/"
        },
        "id": "ZjP2iLU1WXyc",
        "outputId": "3f043867-bd97-4f14-dc38-9547e45e7a72"
      },
      "execution_count": null,
      "outputs": [
        {
          "output_type": "execute_result",
          "data": {
            "text/plain": [
              "[{'nid': '1222',\n",
              "  'title': 'di.bawahtangga',\n",
              "  'jenis_retail': 'retail ',\n",
              "  'cover': 'https://jakartamrt.co.id/sites/default/files/2023-09/6CCB4D18-9DB6-4F4E-A287-D179DEE9F313_1_201_a.jpeg',\n",
              "  'path': '/id/retail/dibawahtangga'}]"
            ]
          },
          "metadata": {},
          "execution_count": 14
        }
      ]
    },
    {
      "cell_type": "code",
      "source": [
        "support = sample[\"fasilitas\"]\n",
        "\n",
        "support"
      ],
      "metadata": {
        "colab": {
          "base_uri": "https://localhost:8080/"
        },
        "id": "Pfm6cEhMWbsn",
        "outputId": "11c80cd4-26ab-4a7f-933a-5c213525ab10"
      },
      "execution_count": null,
      "outputs": [
        {
          "output_type": "execute_result",
          "data": {
            "text/plain": [
              "[{'nid': '274',\n",
              "  'title': 'Sare Hotel',\n",
              "  'jenis_fasilitas': 'Penginapan',\n",
              "  'cover': 'https://jakartamrt.co.id/sites/default/files/2020-10/sare-hotel.jpg',\n",
              "  'path': '/id/fasilitas/sare-hotel'},\n",
              " {'nid': '273',\n",
              "  'title': 'Oeang Restaurant Roastery and Bar',\n",
              "  'jenis_fasilitas': 'Restoran',\n",
              "  'cover': 'https://jakartamrt.co.id/sites/default/files/2020-10/oeang-mbloc.png',\n",
              "  'path': '/id/fasilitas/oeang-restaurant-roastery-and-bar'}]"
            ]
          },
          "metadata": {},
          "execution_count": 15
        }
      ]
    },
    {
      "cell_type": "code",
      "source": [
        "perjalanan = sample[\"estimasi\"]\n",
        "\n",
        "perjalanan"
      ],
      "metadata": {
        "colab": {
          "base_uri": "https://localhost:8080/"
        },
        "id": "CLg-KhQuWhLu",
        "outputId": "d44ec3f9-2666-46df-ad16-fd39d849893d"
      },
      "execution_count": null,
      "outputs": [
        {
          "output_type": "execute_result",
          "data": {
            "text/plain": [
              "[{'stasiun_nid': '20', 'tarif': '9000', 'waktu': '15'},\n",
              " {'stasiun_nid': '21', 'tarif': '7000', 'waktu': '12'},\n",
              " {'stasiun_nid': '29', 'tarif': '6000', 'waktu': '9'},\n",
              " {'stasiun_nid': '30', 'tarif': '5000', 'waktu': '7'},\n",
              " {'stasiun_nid': '31', 'tarif': '4000', 'waktu': '5'},\n",
              " {'stasiun_nid': '32', 'tarif': '3000', 'waktu': '2'},\n",
              " {'stasiun_nid': '34', 'tarif': '3000', 'waktu': '2'},\n",
              " {'stasiun_nid': '35', 'tarif': '4000', 'waktu': '4'},\n",
              " {'stasiun_nid': '36', 'tarif': '5000', 'waktu': '7'},\n",
              " {'stasiun_nid': '37', 'tarif': '6000', 'waktu': '9'},\n",
              " {'stasiun_nid': '38', 'tarif': '7000', 'waktu': '11'},\n",
              " {'stasiun_nid': '39', 'tarif': '7000', 'waktu': '14'}]"
            ]
          },
          "metadata": {},
          "execution_count": 16
        }
      ]
    },
    {
      "cell_type": "markdown",
      "source": [
        "### ```General```"
      ],
      "metadata": {
        "id": "HTvyW75UWV8D"
      }
    },
    {
      "cell_type": "code",
      "source": [
        "import warnings\n",
        "\n",
        "warnings.filterwarnings(\"ignore\")\n",
        "\n",
        "import matplotlib.pyplot as plt\n",
        "\n",
        "plt.style.use('seaborn-whitegrid')"
      ],
      "metadata": {
        "id": "Ne57VNSgWcW1"
      },
      "execution_count": null,
      "outputs": []
    },
    {
      "cell_type": "markdown",
      "source": [
        "### QnA 1\n",
        "\n",
        "```Total Retail Seluruh Statiun MRT ?```"
      ],
      "metadata": {
        "id": "P1-mXiJ6Y7cd"
      }
    },
    {
      "cell_type": "code",
      "source": [
        "retailer = {\"Umkm\":0, \"Atm\":0, \"Retail\":0, \"Fashion\":0, \"Makanan\":0, \"Mesin Top Up\":0, \"Vending Machine\":0, \"Unclass\":0}\n",
        "\n",
        "for i in range(total):\n",
        "\n",
        "  sample = data[i]\n",
        "\n",
        "  retail = sample[\"retails\"]\n",
        "\n",
        "  for ret in retail:\n",
        "\n",
        "    jenis = ret[\"jenis_retail\"]\n",
        "\n",
        "    if not jenis: jenis = \"Unclass\"\n",
        "\n",
        "    jenis = [i.capitalize() for i in jenis.strip().split(\" \")]\n",
        "\n",
        "    jenis = \" \".join(jenis)\n",
        "\n",
        "    if jenis == \"Fesyen\": jenis = \"Fashion\"\n",
        "\n",
        "    if jenis in retailer.keys():\n",
        "      retailer[jenis] += 1\n",
        "    else:\n",
        "      retailer[jenis] = 1"
      ],
      "metadata": {
        "id": "aciIYWo3Yet4"
      },
      "execution_count": null,
      "outputs": []
    },
    {
      "cell_type": "code",
      "source": [
        "fig, ax = plt.subplots(figsize=(13, 5))\n",
        "\n",
        "ax.bar(retailer.keys(), retailer.values())\n",
        "\n",
        "ax.set_title(\"Total Retail Seluruh Statiun\")\n",
        "\n",
        "ax.set_xlabel(\"Retail\")\n",
        "\n",
        "ax.set_ylabel(\"Total\")\n",
        "\n",
        "ax.bar_label(ax.containers[0]);"
      ],
      "metadata": {
        "colab": {
          "base_uri": "https://localhost:8080/",
          "height": 480
        },
        "id": "crtvO2FnYTYY",
        "outputId": "92a93b81-cd96-492f-9416-8eb96d503799"
      },
      "execution_count": null,
      "outputs": [
        {
          "output_type": "display_data",
          "data": {
            "text/plain": [
              "<Figure size 1300x500 with 1 Axes>"
            ],
            "image/png": "[encoded data removed]"
          },
          "metadata": {}
        }
      ]
    },
    {
      "cell_type": "markdown",
      "source": [
        "```Terdapat Total 73 Retail / Fasilitas Dalam Statiun```  \n",
        "```Dengan 4 Teratas :  Retail (Toko) Sebanyak 24, Unclass (Jenis Tak Diketahui) : 14, ATM : 11 dan Vending Machine : 11```"
      ],
      "metadata": {
        "id": "EGlf4Z-BdxbX"
      }
    },
    {
      "cell_type": "code",
      "source": [
        "total_retail = 0\n",
        "\n",
        "for i, t in retailer.items():\n",
        "  total_retail += t\n",
        "\n",
        "total_retail"
      ],
      "metadata": {
        "colab": {
          "base_uri": "https://localhost:8080/"
        },
        "id": "X-hwanNfZSja",
        "outputId": "b4924d6a-bc8d-4cc2-8148-33823c5c95de"
      },
      "execution_count": null,
      "outputs": [
        {
          "output_type": "execute_result",
          "data": {
            "text/plain": [
              "73"
            ]
          },
          "metadata": {},
          "execution_count": 20
        }
      ]
    },
    {
      "cell_type": "markdown",
      "source": [
        "### QnA 2\n",
        "\n",
        "```Total Fasilitas Seluruh Statiun MRT ?```"
      ],
      "metadata": {
        "id": "e2zZsLqyZrxN"
      }
    },
    {
      "cell_type": "code",
      "source": [
        "support = {}\n",
        "\n",
        "for i in range(total):\n",
        "\n",
        "  sample = data[i]\n",
        "\n",
        "  supporting = sample[\"fasilitas\"]\n",
        "\n",
        "  for sup in supporting:\n",
        "\n",
        "    jenis = sup[\"jenis_fasilitas\"]\n",
        "\n",
        "    jenis = [t.capitalize() for t in jenis.strip().split(\" \")]\n",
        "\n",
        "    jenis = \" \".join(jenis)\n",
        "\n",
        "    if jenis in support.keys():\n",
        "      support[jenis] += 1\n",
        "    else:\n",
        "      support[jenis] = 1"
      ],
      "metadata": {
        "id": "wjFLGXuuXros"
      },
      "execution_count": null,
      "outputs": []
    },
    {
      "cell_type": "code",
      "source": [
        "fig, ax = plt.subplots(figsize=(10, 5))\n",
        "\n",
        "ax.bar(support.keys(), support.values())\n",
        "\n",
        "ax.set_title(\"Total Fasilitas Seluruh Statiun\")\n",
        "\n",
        "ax.set_xlabel(\"Fasilitas\")\n",
        "\n",
        "ax.set_ylabel(\"Total\")\n",
        "\n",
        "ax.bar_label(ax.containers[0]);"
      ],
      "metadata": {
        "colab": {
          "base_uri": "https://localhost:8080/",
          "height": 480
        },
        "id": "Z6zuKaxHYAte",
        "outputId": "c24f0174-30e6-4365-fdfe-0663404573e0"
      },
      "execution_count": null,
      "outputs": [
        {
          "output_type": "display_data",
          "data": {
            "text/plain": [
              "<Figure size 1000x500 with 1 Axes>"
            ],
            "image/png": "[encoded data removed]"
          },
          "metadata": {}
        }
      ]
    },
    {
      "cell_type": "code",
      "source": [
        "total_support = 0\n",
        "\n",
        "for i, t  in support.items():\n",
        "  total_support += t\n",
        "\n",
        "total_support"
      ],
      "metadata": {
        "colab": {
          "base_uri": "https://localhost:8080/"
        },
        "id": "nEBq3NAubR_h",
        "outputId": "2b5ef4ed-dc65-40e9-bc96-5f85216df69b"
      },
      "execution_count": null,
      "outputs": [
        {
          "output_type": "execute_result",
          "data": {
            "text/plain": [
              "70"
            ]
          },
          "metadata": {},
          "execution_count": 23
        }
      ]
    },
    {
      "cell_type": "markdown",
      "source": [
        "```Terdapat Total 70 Fasilitas, Dengan Restoran Sebanyak 37, Penginapan : 27, dan Coworking Space : 6```"
      ],
      "metadata": {
        "id": "Iz4ardKhdie2"
      }
    },
    {
      "cell_type": "markdown",
      "source": [
        "### QnA 3\n",
        "\n",
        "```Berapa Rata-Rata Selisih Total Perjalanan Selama Hari Biasa dan Hari Libur ?```"
      ],
      "metadata": {
        "id": "MmfukMTYapJz"
      }
    },
    {
      "cell_type": "code",
      "source": [
        "def jadtelp(sample):\n",
        "  if not sample: return []\n",
        "  sample = sample.split(\",\")\n",
        "  sample = [i.strip() for i in sample]\n",
        "  return sample"
      ],
      "metadata": {
        "id": "ievMA0n1cP8Z"
      },
      "execution_count": null,
      "outputs": []
    },
    {
      "cell_type": "code",
      "source": [
        "perjalanan = {\"biasa\":[], \"libur\":[], \"selisih\":[]}\n",
        "\n",
        "for i in range(total):\n",
        "\n",
        "  sample = data[i]\n",
        "\n",
        "  biasa = sample[\"jadwal_hi_biasa\"]\n",
        "\n",
        "  biasa = len(jadtelp(biasa))\n",
        "\n",
        "  libur = sample[\"jadwal_hi_libur\"]\n",
        "\n",
        "  libur = len(jadtelp(libur))\n",
        "\n",
        "  selisih = biasa - libur\n",
        "\n",
        "  perjalanan[\"biasa\"].append(biasa)\n",
        "\n",
        "  perjalanan[\"libur\"].append(libur)\n",
        "\n",
        "  perjalanan[\"selisih\"].append(selisih)\n",
        "\n",
        "perjalanan"
      ],
      "metadata": {
        "colab": {
          "base_uri": "https://localhost:8080/"
        },
        "id": "jQWSp_GhaouX",
        "outputId": "f0db96ca-101e-4b1e-9e0d-923b30f8088c"
      },
      "execution_count": null,
      "outputs": [
        {
          "output_type": "execute_result",
          "data": {
            "text/plain": [
              "{'biasa': [142, 142, 142, 142, 142, 142, 143, 147, 142, 142, 144, 143, 0],\n",
              " 'libur': [109, 109, 109, 109, 108, 110, 109, 109, 109, 108, 109, 109, 0],\n",
              " 'selisih': [33, 33, 33, 33, 34, 32, 34, 38, 33, 34, 35, 34, 0]}"
            ]
          },
          "metadata": {},
          "execution_count": 25
        }
      ]
    },
    {
      "cell_type": "code",
      "source": [
        "import numpy\n",
        "\n",
        "bundaran = {\"biasa\":int(numpy.mean(perjalanan[\"biasa\"])),\n",
        "            \"libur\":int(numpy.mean(perjalanan[\"libur\"])),\n",
        "            \"selisih\":int(numpy.mean(perjalanan[\"selisih\"]))}\n",
        "\n",
        "bundaran"
      ],
      "metadata": {
        "colab": {
          "base_uri": "https://localhost:8080/"
        },
        "id": "YrN7hOJ9cU-A",
        "outputId": "32a5b97a-666a-4fa1-f800-a4b7317e1174"
      },
      "execution_count": null,
      "outputs": [
        {
          "output_type": "execute_result",
          "data": {
            "text/plain": [
              "{'biasa': 131, 'libur': 100, 'selisih': 31}"
            ]
          },
          "metadata": {},
          "execution_count": 26
        }
      ]
    },
    {
      "cell_type": "code",
      "source": [
        "perjalanan = {\"biasa\":[], \"libur\":[], \"selisih\":[]}\n",
        "\n",
        "for i in range(total):\n",
        "\n",
        "  sample = data[i]\n",
        "\n",
        "  biasa = sample[\"jadwal_lb_biasa\"]\n",
        "\n",
        "  biasa = len(jadtelp(biasa))\n",
        "\n",
        "  libur = sample[\"jadwal_lb_libur\"]\n",
        "\n",
        "  libur = len(jadtelp(libur))\n",
        "\n",
        "  selisih = biasa - libur\n",
        "\n",
        "  perjalanan[\"biasa\"].append(biasa)\n",
        "\n",
        "  perjalanan[\"libur\"].append(libur)\n",
        "\n",
        "  perjalanan[\"selisih\"].append(selisih)\n",
        "\n",
        "perjalanan"
      ],
      "metadata": {
        "colab": {
          "base_uri": "https://localhost:8080/"
        },
        "id": "9VTWaVezcrBV",
        "outputId": "2fc7183f-b7a9-4a42-d973-f2b58969483f"
      },
      "execution_count": null,
      "outputs": [
        {
          "output_type": "execute_result",
          "data": {
            "text/plain": [
              "{'biasa': [0, 143, 142, 142, 141, 140, 142, 142, 141, 139, 142, 143, 142],\n",
              " 'libur': [0, 109, 109, 108, 109, 109, 109, 108, 109, 108, 108, 109, 109],\n",
              " 'selisih': [0, 34, 33, 34, 32, 31, 33, 34, 32, 31, 34, 34, 33]}"
            ]
          },
          "metadata": {},
          "execution_count": 27
        }
      ]
    },
    {
      "cell_type": "code",
      "source": [
        "import numpy\n",
        "\n",
        "lebak = {\"biasa\":int(numpy.mean(perjalanan[\"biasa\"])),\n",
        "         \"libur\":int(numpy.mean(perjalanan[\"libur\"])),\n",
        "         \"selisih\":int(numpy.mean(perjalanan[\"selisih\"]))}\n",
        "\n",
        "lebak"
      ],
      "metadata": {
        "colab": {
          "base_uri": "https://localhost:8080/"
        },
        "id": "u7hlEeqlctSI",
        "outputId": "d97c6821-764c-4308-b7d4-a00f5b8acc84"
      },
      "execution_count": null,
      "outputs": [
        {
          "output_type": "execute_result",
          "data": {
            "text/plain": [
              "{'biasa': 130, 'libur': 100, 'selisih': 30}"
            ]
          },
          "metadata": {},
          "execution_count": 28
        }
      ]
    },
    {
      "cell_type": "markdown",
      "source": [
        "```Selisih Perjalanan Antara Hari Libur dan Hari Biasa Adalah 30```  \n",
        "```Hal ini Didukung Dengan Rata-Rata Perjalanan Hari Biasa : 130, dan Hari Libur : 100```"
      ],
      "metadata": {
        "id": "F41Va04icxXI"
      }
    },
    {
      "cell_type": "markdown",
      "source": [
        "### QnA 4\n",
        "\n",
        "```Berapa Menit Durasi Terlama, Tercepat dan Biaya Termahal, Termurah ? ```"
      ],
      "metadata": {
        "id": "abrqXUHJZw8I"
      }
    },
    {
      "cell_type": "code",
      "source": [
        "timer = []\n",
        "\n",
        "tarif = []\n",
        "\n",
        "for i in range(total):\n",
        "\n",
        "  sample = data[i]\n",
        "\n",
        "  perjalanan = sample[\"estimasi\"]\n",
        "\n",
        "  for jalan in perjalanan:\n",
        "\n",
        "    j, t = int(jalan[\"waktu\"]), int(jalan[\"tarif\"])\n",
        "\n",
        "    if j not in timer: timer.append(j)\n",
        "\n",
        "    if t not in tarif: tarif.append(t)"
      ],
      "metadata": {
        "id": "APgqogJ6bC7a"
      },
      "execution_count": null,
      "outputs": []
    },
    {
      "cell_type": "code",
      "source": [
        "perjalanan_termurah = min(tarif)\n",
        "\n",
        "perjalanan_termurah"
      ],
      "metadata": {
        "id": "ESyOWrG-fDo7",
        "colab": {
          "base_uri": "https://localhost:8080/"
        },
        "outputId": "9e9d13b5-9f4e-4588-eb96-34d9f06e7715"
      },
      "execution_count": null,
      "outputs": [
        {
          "output_type": "execute_result",
          "data": {
            "text/plain": [
              "3000"
            ]
          },
          "metadata": {},
          "execution_count": 30
        }
      ]
    },
    {
      "cell_type": "code",
      "source": [
        "perjalanan_termahal = max(tarif)\n",
        "\n",
        "perjalanan_termahal"
      ],
      "metadata": {
        "colab": {
          "base_uri": "https://localhost:8080/"
        },
        "id": "oLJOCSloT2_V",
        "outputId": "3d806cee-4376-4cfb-90b0-f35eb13b0a6b"
      },
      "execution_count": null,
      "outputs": [
        {
          "output_type": "execute_result",
          "data": {
            "text/plain": [
              "14000"
            ]
          },
          "metadata": {},
          "execution_count": 31
        }
      ]
    },
    {
      "cell_type": "code",
      "source": [
        "perjalanan_tercepat = min(timer)\n",
        "\n",
        "perjalanan_tercepat"
      ],
      "metadata": {
        "id": "OB6RkGSdfXzy",
        "colab": {
          "base_uri": "https://localhost:8080/"
        },
        "outputId": "2aa4fac3-3896-4977-dd95-0d6ed15d755f"
      },
      "execution_count": null,
      "outputs": [
        {
          "output_type": "execute_result",
          "data": {
            "text/plain": [
              "2"
            ]
          },
          "metadata": {},
          "execution_count": 32
        }
      ]
    },
    {
      "cell_type": "code",
      "source": [
        "perjalanan_terlama = max(timer)\n",
        "\n",
        "perjalanan_terlama"
      ],
      "metadata": {
        "colab": {
          "base_uri": "https://localhost:8080/"
        },
        "id": "2P4O6YPrT6Kj",
        "outputId": "3f9cab86-90da-4309-daa0-c43e28f7ecad"
      },
      "execution_count": null,
      "outputs": [
        {
          "output_type": "execute_result",
          "data": {
            "text/plain": [
              "29"
            ]
          },
          "metadata": {},
          "execution_count": 33
        }
      ]
    },
    {
      "cell_type": "markdown",
      "source": [
        "```Perjalanan Termahal : Rp. 14.000, Termurah : Rp. 3.000```  \n",
        "```Perjalanan Tercepat : 2 Menit, Terlama : 29 Menit```"
      ],
      "metadata": {
        "id": "5ZhoxZ0sc8SV"
      }
    }
  ]
}